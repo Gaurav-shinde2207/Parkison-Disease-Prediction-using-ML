{
 "cells": [
  {
   "cell_type": "markdown",
   "id": "87cd8649",
   "metadata": {},
   "source": [
    "# Importing Libraries and Dataset\n"
   ]
  },
  {
   "cell_type": "code",
   "execution_count": 2,
   "id": "0fbfa914",
   "metadata": {},
   "outputs": [],
   "source": [
    "import numpy as np\n",
    "import pandas as pd\n",
    "import matplotlib.pyplot as plt\n",
    "import seaborn as sb\n",
    "\n",
    "from imblearn.over_sampling import RandomOverSampler\n",
    "from sklearn.model_selection import train_test_split\n",
    "from sklearn.preprocessing import LabelEncoder, MinMaxScaler\n",
    "from sklearn.feature_selection import SelectKBest, chi2\n",
    "from tqdm.notebook import tqdm\n",
    "from sklearn import metrics\n",
    "from sklearn.svm import SVC\n",
    "from xgboost import XGBClassifier\n",
    "from sklearn.linear_model import LogisticRegression\n",
    "\n",
    "import warnings\n",
    "warnings.filterwarnings('ignore')"
   ]
  },
  {
   "cell_type": "code",
   "execution_count": 3,
   "id": "80e05123",
   "metadata": {},
   "outputs": [],
   "source": [
    "df = pd.read_csv('parkinson_disease.csv')\n"
   ]
  },
  {
   "cell_type": "markdown",
   "id": "17e51137",
   "metadata": {},
   "source": [
    "# Data Cleaning"
   ]
  },
  {
   "cell_type": "code",
   "execution_count": 4,
   "id": "29e7be10",
   "metadata": {},
   "outputs": [
    {
     "data": {
      "text/plain": [
       "(756, 755)"
      ]
     },
     "execution_count": 4,
     "metadata": {},
     "output_type": "execute_result"
    }
   ],
   "source": [
    "df.shape\n"
   ]
  },
  {
   "cell_type": "code",
   "execution_count": 5,
   "id": "d8491a4d",
   "metadata": {},
   "outputs": [
    {
     "name": "stdout",
     "output_type": "stream",
     "text": [
      "<class 'pandas.core.frame.DataFrame'>\n",
      "RangeIndex: 756 entries, 0 to 755\n",
      "Columns: 755 entries, id to class\n",
      "dtypes: float64(749), int64(6)\n",
      "memory usage: 4.4 MB\n"
     ]
    }
   ],
   "source": [
    "df.info()\n"
   ]
  },
  {
   "cell_type": "code",
   "execution_count": 6,
   "id": "2571a1bb",
   "metadata": {},
   "outputs": [
    {
     "data": {
      "text/html": [
       "<div>\n",
       "<style scoped>\n",
       "    .dataframe tbody tr th:only-of-type {\n",
       "        vertical-align: middle;\n",
       "    }\n",
       "\n",
       "    .dataframe tbody tr th {\n",
       "        vertical-align: top;\n",
       "    }\n",
       "\n",
       "    .dataframe thead th {\n",
       "        text-align: right;\n",
       "    }\n",
       "</style>\n",
       "<table border=\"1\" class=\"dataframe\">\n",
       "  <thead>\n",
       "    <tr style=\"text-align: right;\">\n",
       "      <th></th>\n",
       "      <th>id</th>\n",
       "      <th>gender</th>\n",
       "      <th>PPE</th>\n",
       "      <th>DFA</th>\n",
       "      <th>RPDE</th>\n",
       "      <th>numPulses</th>\n",
       "      <th>numPeriodsPulses</th>\n",
       "      <th>meanPeriodPulses</th>\n",
       "      <th>stdDevPeriodPulses</th>\n",
       "      <th>locPctJitter</th>\n",
       "      <th>...</th>\n",
       "      <th>tqwt_kurtosisValue_dec_28</th>\n",
       "      <th>tqwt_kurtosisValue_dec_29</th>\n",
       "      <th>tqwt_kurtosisValue_dec_30</th>\n",
       "      <th>tqwt_kurtosisValue_dec_31</th>\n",
       "      <th>tqwt_kurtosisValue_dec_32</th>\n",
       "      <th>tqwt_kurtosisValue_dec_33</th>\n",
       "      <th>tqwt_kurtosisValue_dec_34</th>\n",
       "      <th>tqwt_kurtosisValue_dec_35</th>\n",
       "      <th>tqwt_kurtosisValue_dec_36</th>\n",
       "      <th>class</th>\n",
       "    </tr>\n",
       "  </thead>\n",
       "  <tbody>\n",
       "    <tr>\n",
       "      <th>count</th>\n",
       "      <td>756.000000</td>\n",
       "      <td>756.000000</td>\n",
       "      <td>756.000000</td>\n",
       "      <td>756.000000</td>\n",
       "      <td>756.000000</td>\n",
       "      <td>756.000000</td>\n",
       "      <td>756.000000</td>\n",
       "      <td>756.000000</td>\n",
       "      <td>756.000000</td>\n",
       "      <td>756.000000</td>\n",
       "      <td>...</td>\n",
       "      <td>756.000000</td>\n",
       "      <td>756.000000</td>\n",
       "      <td>756.000000</td>\n",
       "      <td>756.000000</td>\n",
       "      <td>756.000000</td>\n",
       "      <td>756.000000</td>\n",
       "      <td>756.000000</td>\n",
       "      <td>756.000000</td>\n",
       "      <td>756.000000</td>\n",
       "      <td>756.000000</td>\n",
       "    </tr>\n",
       "    <tr>\n",
       "      <th>mean</th>\n",
       "      <td>125.500000</td>\n",
       "      <td>0.515873</td>\n",
       "      <td>0.746284</td>\n",
       "      <td>0.700414</td>\n",
       "      <td>0.489058</td>\n",
       "      <td>323.972222</td>\n",
       "      <td>322.678571</td>\n",
       "      <td>0.006360</td>\n",
       "      <td>0.000383</td>\n",
       "      <td>0.002324</td>\n",
       "      <td>...</td>\n",
       "      <td>26.237251</td>\n",
       "      <td>22.840337</td>\n",
       "      <td>18.587888</td>\n",
       "      <td>13.872018</td>\n",
       "      <td>12.218953</td>\n",
       "      <td>12.375335</td>\n",
       "      <td>14.799230</td>\n",
       "      <td>14.751559</td>\n",
       "      <td>31.481110</td>\n",
       "      <td>0.746032</td>\n",
       "    </tr>\n",
       "    <tr>\n",
       "      <th>std</th>\n",
       "      <td>72.793721</td>\n",
       "      <td>0.500079</td>\n",
       "      <td>0.169294</td>\n",
       "      <td>0.069718</td>\n",
       "      <td>0.137442</td>\n",
       "      <td>99.219059</td>\n",
       "      <td>99.402499</td>\n",
       "      <td>0.001826</td>\n",
       "      <td>0.000728</td>\n",
       "      <td>0.002628</td>\n",
       "      <td>...</td>\n",
       "      <td>42.220693</td>\n",
       "      <td>32.626464</td>\n",
       "      <td>25.537464</td>\n",
       "      <td>20.046029</td>\n",
       "      <td>17.783642</td>\n",
       "      <td>16.341665</td>\n",
       "      <td>15.722502</td>\n",
       "      <td>14.432979</td>\n",
       "      <td>34.230991</td>\n",
       "      <td>0.435568</td>\n",
       "    </tr>\n",
       "    <tr>\n",
       "      <th>min</th>\n",
       "      <td>0.000000</td>\n",
       "      <td>0.000000</td>\n",
       "      <td>0.041551</td>\n",
       "      <td>0.543500</td>\n",
       "      <td>0.154300</td>\n",
       "      <td>2.000000</td>\n",
       "      <td>1.000000</td>\n",
       "      <td>0.002107</td>\n",
       "      <td>0.000011</td>\n",
       "      <td>0.000210</td>\n",
       "      <td>...</td>\n",
       "      <td>1.509800</td>\n",
       "      <td>1.531700</td>\n",
       "      <td>1.582900</td>\n",
       "      <td>1.747200</td>\n",
       "      <td>1.789500</td>\n",
       "      <td>1.628700</td>\n",
       "      <td>1.861700</td>\n",
       "      <td>1.955900</td>\n",
       "      <td>2.364000</td>\n",
       "      <td>0.000000</td>\n",
       "    </tr>\n",
       "    <tr>\n",
       "      <th>25%</th>\n",
       "      <td>62.750000</td>\n",
       "      <td>0.000000</td>\n",
       "      <td>0.762833</td>\n",
       "      <td>0.647053</td>\n",
       "      <td>0.386537</td>\n",
       "      <td>251.000000</td>\n",
       "      <td>250.000000</td>\n",
       "      <td>0.005003</td>\n",
       "      <td>0.000049</td>\n",
       "      <td>0.000970</td>\n",
       "      <td>...</td>\n",
       "      <td>2.408675</td>\n",
       "      <td>3.452800</td>\n",
       "      <td>3.354825</td>\n",
       "      <td>3.077450</td>\n",
       "      <td>2.937025</td>\n",
       "      <td>3.114375</td>\n",
       "      <td>3.665925</td>\n",
       "      <td>3.741275</td>\n",
       "      <td>3.948750</td>\n",
       "      <td>0.000000</td>\n",
       "    </tr>\n",
       "    <tr>\n",
       "      <th>50%</th>\n",
       "      <td>125.500000</td>\n",
       "      <td>1.000000</td>\n",
       "      <td>0.809655</td>\n",
       "      <td>0.700525</td>\n",
       "      <td>0.484355</td>\n",
       "      <td>317.000000</td>\n",
       "      <td>316.000000</td>\n",
       "      <td>0.006048</td>\n",
       "      <td>0.000077</td>\n",
       "      <td>0.001495</td>\n",
       "      <td>...</td>\n",
       "      <td>5.586300</td>\n",
       "      <td>7.062750</td>\n",
       "      <td>6.077400</td>\n",
       "      <td>4.770850</td>\n",
       "      <td>4.300450</td>\n",
       "      <td>4.741450</td>\n",
       "      <td>6.725700</td>\n",
       "      <td>7.334250</td>\n",
       "      <td>10.637250</td>\n",
       "      <td>1.000000</td>\n",
       "    </tr>\n",
       "    <tr>\n",
       "      <th>75%</th>\n",
       "      <td>188.250000</td>\n",
       "      <td>1.000000</td>\n",
       "      <td>0.834315</td>\n",
       "      <td>0.754985</td>\n",
       "      <td>0.586515</td>\n",
       "      <td>384.250000</td>\n",
       "      <td>383.250000</td>\n",
       "      <td>0.007528</td>\n",
       "      <td>0.000171</td>\n",
       "      <td>0.002520</td>\n",
       "      <td>...</td>\n",
       "      <td>28.958075</td>\n",
       "      <td>29.830850</td>\n",
       "      <td>21.944050</td>\n",
       "      <td>13.188000</td>\n",
       "      <td>10.876150</td>\n",
       "      <td>12.201325</td>\n",
       "      <td>21.922050</td>\n",
       "      <td>22.495175</td>\n",
       "      <td>61.125325</td>\n",
       "      <td>1.000000</td>\n",
       "    </tr>\n",
       "    <tr>\n",
       "      <th>max</th>\n",
       "      <td>251.000000</td>\n",
       "      <td>1.000000</td>\n",
       "      <td>0.907660</td>\n",
       "      <td>0.852640</td>\n",
       "      <td>0.871230</td>\n",
       "      <td>907.000000</td>\n",
       "      <td>905.000000</td>\n",
       "      <td>0.012966</td>\n",
       "      <td>0.003483</td>\n",
       "      <td>0.027750</td>\n",
       "      <td>...</td>\n",
       "      <td>239.788800</td>\n",
       "      <td>203.311300</td>\n",
       "      <td>121.542900</td>\n",
       "      <td>102.207000</td>\n",
       "      <td>85.571700</td>\n",
       "      <td>73.532200</td>\n",
       "      <td>62.007300</td>\n",
       "      <td>57.544300</td>\n",
       "      <td>156.423700</td>\n",
       "      <td>1.000000</td>\n",
       "    </tr>\n",
       "  </tbody>\n",
       "</table>\n",
       "<p>8 rows × 755 columns</p>\n",
       "</div>"
      ],
      "text/plain": [
       "               id      gender         PPE         DFA        RPDE   numPulses  \\\n",
       "count  756.000000  756.000000  756.000000  756.000000  756.000000  756.000000   \n",
       "mean   125.500000    0.515873    0.746284    0.700414    0.489058  323.972222   \n",
       "std     72.793721    0.500079    0.169294    0.069718    0.137442   99.219059   \n",
       "min      0.000000    0.000000    0.041551    0.543500    0.154300    2.000000   \n",
       "25%     62.750000    0.000000    0.762833    0.647053    0.386537  251.000000   \n",
       "50%    125.500000    1.000000    0.809655    0.700525    0.484355  317.000000   \n",
       "75%    188.250000    1.000000    0.834315    0.754985    0.586515  384.250000   \n",
       "max    251.000000    1.000000    0.907660    0.852640    0.871230  907.000000   \n",
       "\n",
       "       numPeriodsPulses  meanPeriodPulses  stdDevPeriodPulses  locPctJitter  \\\n",
       "count        756.000000        756.000000          756.000000    756.000000   \n",
       "mean         322.678571          0.006360            0.000383      0.002324   \n",
       "std           99.402499          0.001826            0.000728      0.002628   \n",
       "min            1.000000          0.002107            0.000011      0.000210   \n",
       "25%          250.000000          0.005003            0.000049      0.000970   \n",
       "50%          316.000000          0.006048            0.000077      0.001495   \n",
       "75%          383.250000          0.007528            0.000171      0.002520   \n",
       "max          905.000000          0.012966            0.003483      0.027750   \n",
       "\n",
       "       ...  tqwt_kurtosisValue_dec_28  tqwt_kurtosisValue_dec_29  \\\n",
       "count  ...                 756.000000                 756.000000   \n",
       "mean   ...                  26.237251                  22.840337   \n",
       "std    ...                  42.220693                  32.626464   \n",
       "min    ...                   1.509800                   1.531700   \n",
       "25%    ...                   2.408675                   3.452800   \n",
       "50%    ...                   5.586300                   7.062750   \n",
       "75%    ...                  28.958075                  29.830850   \n",
       "max    ...                 239.788800                 203.311300   \n",
       "\n",
       "       tqwt_kurtosisValue_dec_30  tqwt_kurtosisValue_dec_31  \\\n",
       "count                 756.000000                 756.000000   \n",
       "mean                   18.587888                  13.872018   \n",
       "std                    25.537464                  20.046029   \n",
       "min                     1.582900                   1.747200   \n",
       "25%                     3.354825                   3.077450   \n",
       "50%                     6.077400                   4.770850   \n",
       "75%                    21.944050                  13.188000   \n",
       "max                   121.542900                 102.207000   \n",
       "\n",
       "       tqwt_kurtosisValue_dec_32  tqwt_kurtosisValue_dec_33  \\\n",
       "count                 756.000000                 756.000000   \n",
       "mean                   12.218953                  12.375335   \n",
       "std                    17.783642                  16.341665   \n",
       "min                     1.789500                   1.628700   \n",
       "25%                     2.937025                   3.114375   \n",
       "50%                     4.300450                   4.741450   \n",
       "75%                    10.876150                  12.201325   \n",
       "max                    85.571700                  73.532200   \n",
       "\n",
       "       tqwt_kurtosisValue_dec_34  tqwt_kurtosisValue_dec_35  \\\n",
       "count                 756.000000                 756.000000   \n",
       "mean                   14.799230                  14.751559   \n",
       "std                    15.722502                  14.432979   \n",
       "min                     1.861700                   1.955900   \n",
       "25%                     3.665925                   3.741275   \n",
       "50%                     6.725700                   7.334250   \n",
       "75%                    21.922050                  22.495175   \n",
       "max                    62.007300                  57.544300   \n",
       "\n",
       "       tqwt_kurtosisValue_dec_36       class  \n",
       "count                 756.000000  756.000000  \n",
       "mean                   31.481110    0.746032  \n",
       "std                    34.230991    0.435568  \n",
       "min                     2.364000    0.000000  \n",
       "25%                     3.948750    0.000000  \n",
       "50%                    10.637250    1.000000  \n",
       "75%                    61.125325    1.000000  \n",
       "max                   156.423700    1.000000  \n",
       "\n",
       "[8 rows x 755 columns]"
      ]
     },
     "execution_count": 6,
     "metadata": {},
     "output_type": "execute_result"
    }
   ],
   "source": [
    "df.describe()\n"
   ]
  },
  {
   "cell_type": "code",
   "execution_count": 7,
   "id": "c0a1bd52",
   "metadata": {},
   "outputs": [],
   "source": [
    "df = df.groupby('id').mean().reset_index()\n",
    "df.drop('id', axis=1, inplace=True)\n"
   ]
  },
  {
   "cell_type": "code",
   "execution_count": 8,
   "id": "3252becf",
   "metadata": {},
   "outputs": [
    {
     "data": {
      "text/plain": [
       "(252, 287)"
      ]
     },
     "execution_count": 8,
     "metadata": {},
     "output_type": "execute_result"
    }
   ],
   "source": [
    "columns = list(df.columns)\n",
    "for col in columns:\n",
    "\tif col == 'class':\n",
    "\t\tcontinue\n",
    "\n",
    "\tfiltered_columns = [col]\n",
    "\tfor col1 in df.columns:\n",
    "\t\tif((col == col1) | (col == 'class')):\n",
    "\t\t\tcontinue\n",
    "\n",
    "\t\tval = df[col].corr(df[col1])\n",
    "\n",
    "\t\tif val > 0.7:\n",
    "\t\t\t# If the correlation between the two\n",
    "\t\t\t# features is more than 0.7 remove\n",
    "\t\t\tcolumns.remove(col1)\n",
    "\t\t\tcontinue\n",
    "\t\telse:\n",
    "\t\t\tfiltered_columns.append(col1)\n",
    "\n",
    "# After each iteration filter out the columns\n",
    "# which are not highly correlated features.\n",
    "\tdf = df[filtered_columns]\n",
    "df.shape\n"
   ]
  },
  {
   "cell_type": "code",
   "execution_count": 9,
   "id": "f7422ce3",
   "metadata": {},
   "outputs": [
    {
     "data": {
      "text/plain": [
       "(252, 31)"
      ]
     },
     "execution_count": 9,
     "metadata": {},
     "output_type": "execute_result"
    }
   ],
   "source": [
    "X = df.drop('class', axis=1)\n",
    "X_norm = MinMaxScaler().fit_transform(X)\n",
    "selector = SelectKBest(chi2, k=30)\n",
    "selector.fit(X_norm, df['class'])\n",
    "filtered_columns = selector.get_support()\n",
    "filtered_data = X.loc[:, filtered_columns]\n",
    "filtered_data['class'] = df['class']\n",
    "df = filtered_data\n",
    "df.shape\n"
   ]
  },
  {
   "cell_type": "code",
   "execution_count": 10,
   "id": "10fe152f",
   "metadata": {},
   "outputs": [
    {
     "data": {
      "image/png": "[encoded data removed]",
      "text/plain": [
       "<Figure size 432x288 with 1 Axes>"
      ]
     },
     "metadata": {},
     "output_type": "display_data"
    }
   ],
   "source": [
    "x = df['class'].value_counts()\n",
    "plt.pie(x.values,\n",
    "\t\tlabels = x.index,\n",
    "\t\tautopct='%1.1f%%')\n",
    "plt.show()\n"
   ]
  },
  {
   "cell_type": "code",
   "execution_count": 11,
   "id": "b5a5e609",
   "metadata": {},
   "outputs": [
    {
     "data": {
      "text/plain": [
       "((201, 30), (51, 30))"
      ]
     },
     "execution_count": 11,
     "metadata": {},
     "output_type": "execute_result"
    }
   ],
   "source": [
    "features = df.drop('class', axis=1)\n",
    "target = df['class']\n",
    "\n",
    "X_train, X_val,\\\n",
    "\tY_train, Y_val = train_test_split(features, target,\n",
    "\t\t\t\t\t\t\t\t\ttest_size=0.2,\n",
    "\t\t\t\t\t\t\t\t\trandom_state=10)\n",
    "X_train.shape, X_val.shape\n"
   ]
  },
  {
   "cell_type": "code",
   "execution_count": 12,
   "id": "b4731653",
   "metadata": {},
   "outputs": [
    {
     "data": {
      "text/plain": [
       "((302, 30), (302,))"
      ]
     },
     "execution_count": 12,
     "metadata": {},
     "output_type": "execute_result"
    }
   ],
   "source": [
    "# As the data was highly imbalanced we will balance\n",
    "# it by adding repetitive rows of minority class.\n",
    "ros = RandomOverSampler(sampling_strategy='minority',\n",
    "\t\t\t\t\t\trandom_state=0)\n",
    "X, Y = ros.fit_resample(X_train, Y_train)\n",
    "X.shape, Y.shape\n"
   ]
  },
  {
   "cell_type": "code",
   "execution_count": 13,
   "id": "91da2042",
   "metadata": {},
   "outputs": [
    {
     "name": "stdout",
     "output_type": "stream",
     "text": [
      "LogisticRegression() : \n",
      "Training Accuracy :  0.8312354721284154\n",
      "Validation Accuracy :  0.8127413127413127\n",
      "\n",
      "XGBClassifier(base_score=None, booster=None, callbacks=None,\n",
      "              colsample_bylevel=None, colsample_bynode=None,\n",
      "              colsample_bytree=None, device=None, early_stopping_rounds=None,\n",
      "              enable_categorical=False, eval_metric=None, feature_types=None,\n",
      "              gamma=None, grow_policy=None, importance_type=None,\n",
      "              interaction_constraints=None, learning_rate=None, max_bin=None,\n",
      "              max_cat_threshold=None, max_cat_to_onehot=None,\n",
      "              max_delta_step=None, max_depth=None, max_leaves=None,\n",
      "              min_child_weight=None, missing=nan, monotone_constraints=None,\n",
      "              multi_strategy=None, n_estimators=None, n_jobs=None,\n",
      "              num_parallel_tree=None, random_state=None, ...) : \n",
      "Training Accuracy :  0.9999999999999999\n",
      "Validation Accuracy :  0.7857142857142857\n",
      "\n",
      "SVC() : \n"
     ]
    },
    {
     "ename": "AttributeError",
     "evalue": "predict_proba is not available when  probability=False",
     "output_type": "error",
     "traceback": [
      "\u001b[1;31m---------------------------------------------------------------------------\u001b[0m",
      "\u001b[1;31mAttributeError\u001b[0m                            Traceback (most recent call last)",
      "Input \u001b[1;32mIn [13]\u001b[0m, in \u001b[0;36m<cell line: 4>\u001b[1;34m()\u001b[0m\n\u001b[0;32m      5\u001b[0m models[i]\u001b[38;5;241m.\u001b[39mfit(X, Y)\n\u001b[0;32m      7\u001b[0m \u001b[38;5;28mprint\u001b[39m(\u001b[38;5;124mf\u001b[39m\u001b[38;5;124m'\u001b[39m\u001b[38;5;132;01m{\u001b[39;00mmodels[i]\u001b[38;5;132;01m}\u001b[39;00m\u001b[38;5;124m : \u001b[39m\u001b[38;5;124m'\u001b[39m)\n\u001b[1;32m----> 9\u001b[0m train_preds \u001b[38;5;241m=\u001b[39m \u001b[43mmodels\u001b[49m\u001b[43m[\u001b[49m\u001b[43mi\u001b[49m\u001b[43m]\u001b[49m\u001b[38;5;241;43m.\u001b[39;49m\u001b[43mpredict_proba\u001b[49m(X)[:, \u001b[38;5;241m1\u001b[39m]\n\u001b[0;32m     10\u001b[0m \u001b[38;5;28mprint\u001b[39m(\u001b[38;5;124m'\u001b[39m\u001b[38;5;124mTraining Accuracy : \u001b[39m\u001b[38;5;124m'\u001b[39m, ras(Y, train_preds))\n\u001b[0;32m     12\u001b[0m val_preds \u001b[38;5;241m=\u001b[39m models[i]\u001b[38;5;241m.\u001b[39mpredict_proba(X_val)[:, \u001b[38;5;241m1\u001b[39m]\n",
      "File \u001b[1;32mC:\\ProgramData\\Anaconda3\\lib\\site-packages\\sklearn\\utils\\metaestimators.py:109\u001b[0m, in \u001b[0;36m_AvailableIfDescriptor.__get__\u001b[1;34m(self, obj, owner)\u001b[0m\n\u001b[0;32m    103\u001b[0m attr_err \u001b[38;5;241m=\u001b[39m \u001b[38;5;167;01mAttributeError\u001b[39;00m(\n\u001b[0;32m    104\u001b[0m     \u001b[38;5;124mf\u001b[39m\u001b[38;5;124m\"\u001b[39m\u001b[38;5;124mThis \u001b[39m\u001b[38;5;132;01m{\u001b[39;00m\u001b[38;5;28mrepr\u001b[39m(owner\u001b[38;5;241m.\u001b[39m\u001b[38;5;18m__name__\u001b[39m)\u001b[38;5;132;01m}\u001b[39;00m\u001b[38;5;124m has no attribute \u001b[39m\u001b[38;5;132;01m{\u001b[39;00m\u001b[38;5;28mrepr\u001b[39m(\u001b[38;5;28mself\u001b[39m\u001b[38;5;241m.\u001b[39mattribute_name)\u001b[38;5;132;01m}\u001b[39;00m\u001b[38;5;124m\"\u001b[39m\n\u001b[0;32m    105\u001b[0m )\n\u001b[0;32m    106\u001b[0m \u001b[38;5;28;01mif\u001b[39;00m obj \u001b[38;5;129;01mis\u001b[39;00m \u001b[38;5;129;01mnot\u001b[39;00m \u001b[38;5;28;01mNone\u001b[39;00m:\n\u001b[0;32m    107\u001b[0m     \u001b[38;5;66;03m# delegate only on instances, not the classes.\u001b[39;00m\n\u001b[0;32m    108\u001b[0m     \u001b[38;5;66;03m# this is to allow access to the docstrings.\u001b[39;00m\n\u001b[1;32m--> 109\u001b[0m     \u001b[38;5;28;01mif\u001b[39;00m \u001b[38;5;129;01mnot\u001b[39;00m \u001b[38;5;28;43mself\u001b[39;49m\u001b[38;5;241;43m.\u001b[39;49m\u001b[43mcheck\u001b[49m\u001b[43m(\u001b[49m\u001b[43mobj\u001b[49m\u001b[43m)\u001b[49m:\n\u001b[0;32m    110\u001b[0m         \u001b[38;5;28;01mraise\u001b[39;00m attr_err\n\u001b[0;32m    112\u001b[0m     \u001b[38;5;66;03m# lambda, but not partial, allows help() to work with update_wrapper\u001b[39;00m\n",
      "File \u001b[1;32mC:\\ProgramData\\Anaconda3\\lib\\site-packages\\sklearn\\svm\\_base.py:800\u001b[0m, in \u001b[0;36mBaseSVC._check_proba\u001b[1;34m(self)\u001b[0m\n\u001b[0;32m    798\u001b[0m \u001b[38;5;28;01mdef\u001b[39;00m \u001b[38;5;21m_check_proba\u001b[39m(\u001b[38;5;28mself\u001b[39m):\n\u001b[0;32m    799\u001b[0m     \u001b[38;5;28;01mif\u001b[39;00m \u001b[38;5;129;01mnot\u001b[39;00m \u001b[38;5;28mself\u001b[39m\u001b[38;5;241m.\u001b[39mprobability:\n\u001b[1;32m--> 800\u001b[0m         \u001b[38;5;28;01mraise\u001b[39;00m \u001b[38;5;167;01mAttributeError\u001b[39;00m(\n\u001b[0;32m    801\u001b[0m             \u001b[38;5;124m\"\u001b[39m\u001b[38;5;124mpredict_proba is not available when  probability=False\u001b[39m\u001b[38;5;124m\"\u001b[39m\n\u001b[0;32m    802\u001b[0m         )\n\u001b[0;32m    803\u001b[0m     \u001b[38;5;28;01mif\u001b[39;00m \u001b[38;5;28mself\u001b[39m\u001b[38;5;241m.\u001b[39m_impl \u001b[38;5;129;01mnot\u001b[39;00m \u001b[38;5;129;01min\u001b[39;00m (\u001b[38;5;124m\"\u001b[39m\u001b[38;5;124mc_svc\u001b[39m\u001b[38;5;124m\"\u001b[39m, \u001b[38;5;124m\"\u001b[39m\u001b[38;5;124mnu_svc\u001b[39m\u001b[38;5;124m\"\u001b[39m):\n\u001b[0;32m    804\u001b[0m         \u001b[38;5;28;01mraise\u001b[39;00m \u001b[38;5;167;01mAttributeError\u001b[39;00m(\u001b[38;5;124m\"\u001b[39m\u001b[38;5;124mpredict_proba only implemented for SVC and NuSVC\u001b[39m\u001b[38;5;124m\"\u001b[39m)\n",
      "\u001b[1;31mAttributeError\u001b[0m: predict_proba is not available when  probability=False"
     ]
    }
   ],
   "source": [
    "from sklearn.metrics import roc_auc_score as ras\n",
    "models = [LogisticRegression(), XGBClassifier(), SVC(kernel='rbf')]\n",
    "\n",
    "for i in range(len(models)):\n",
    "\tmodels[i].fit(X, Y)\n",
    "\n",
    "\tprint(f'{models[i]} : ')\n",
    "\n",
    "\ttrain_preds = models[i].predict_proba(X)[:, 1]\n",
    "\tprint('Training Accuracy : ', ras(Y, train_preds))\n",
    "\n",
    "\tval_preds = models[i].predict_proba(X_val)[:, 1]\n",
    "\tprint('Validation Accuracy : ', ras(Y_val, val_preds))\n",
    "\tprint()\n"
   ]
  },
  {
   "cell_type": "code",
   "execution_count": 14,
   "id": "71a7c587",
   "metadata": {},
   "outputs": [
    {
     "data": {
      "image/png": "[encoded data removed]",
      "text/plain": [
       "<Figure size 432x288 with 2 Axes>"
      ]
     },
     "metadata": {
      "needs_background": "light"
     },
     "output_type": "display_data"
    }
   ],
   "source": [
    "metrics.plot_confusion_matrix(models[0],\n",
    "\t\t\t\t\t\t\tX_val, Y_val)\n",
    "plt.show()\n"
   ]
  },
  {
   "cell_type": "code",
   "execution_count": 15,
   "id": "4f92c6e1",
   "metadata": {},
   "outputs": [
    {
     "name": "stdout",
     "output_type": "stream",
     "text": [
      "              precision    recall  f1-score   support\n",
      "\n",
      "         0.0       0.83      0.71      0.77        14\n",
      "         1.0       0.90      0.95      0.92        37\n",
      "\n",
      "    accuracy                           0.88        51\n",
      "   macro avg       0.87      0.83      0.85        51\n",
      "weighted avg       0.88      0.88      0.88        51\n",
      "\n"
     ]
    }
   ],
   "source": [
    "print(metrics.classification_report\n",
    "\t(Y_val, models[0].predict(X_val)))\n"
   ]
  },
  {
   "cell_type": "code",
   "execution_count": null,
   "id": "2829300f",
   "metadata": {},
   "outputs": [],
   "source": []
  }
 ],
 "metadata": {
  "kernelspec": {
   "display_name": "Python 3 (ipykernel)",
   "language": "python",
   "name": "python3"
  },
  "language_info": {
   "codemirror_mode": {
    "name": "ipython",
    "version": 3
   },
   "file_extension": ".py",
   "mimetype": "text/x-python",
   "name": "python",
   "nbconvert_exporter": "python",
   "pygments_lexer": "ipython3",
   "version": "3.9.12"
  }
 },
 "nbformat": 4,
 "nbformat_minor": 5
}
